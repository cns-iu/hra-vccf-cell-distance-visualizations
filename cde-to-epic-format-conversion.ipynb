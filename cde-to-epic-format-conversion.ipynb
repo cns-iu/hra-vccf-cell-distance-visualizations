{
 "cells": [
  {
   "cell_type": "code",
   "execution_count": 1,
   "metadata": {},
   "outputs": [],
   "source": [
    "import pandas as pd\n",
    "import os\n",
    "import numpy as np\n",
    "import math\n",
    "import os\n",
    "import warnings\n",
    "from tqdm import tqdm\n",
    "\n",
    "warnings.simplefilter(\"ignore\")\n",
    "\n",
    "pd.set_option('display.max_columns', None)\n",
    "pd.set_option('display.max_rows', None)"
   ]
  },
  {
   "cell_type": "code",
   "execution_count": 2,
   "metadata": {},
   "outputs": [],
   "source": [
    "# Exemplary nodes.csv file for Intestine Dataset from Stanford (John Hickey)\n",
    "# https://cdn.humanatlas.io/image-store/vccf-data-cell-nodes/published/intestine-codex-stanford/B012_Duodenum-nodes.csv\n",
    "\n",
    "# Exemplary edges.csv file for Intestine Dataset from Stanford (John Hickey)\n",
    "# https://cdn.humanatlas.io/image-store/vccf-data-cell-nodes/published/intestine-codex-stanford/B012_Duodenum-edges.csv"
   ]
  },
  {
   "cell_type": "code",
   "execution_count": 3,
   "metadata": {},
   "outputs": [],
   "source": [
    "# read nodes.csv file as pandas dataframe. Nodes are x,y,z coordinates of each cell centroid in the image.\n",
    "nodes_df = pd.read_csv(\"example-data-for-epic/B012_Duodenum-nodes.csv\")\n",
    "\n",
    "# read edges.csv file as pandas dataframe. Edges are defined as links between each cell and the nearest endothelial cell (blood vessel).\n",
    "column_names = ['cell_id', 'x1', 'y1', 'z1', 'x2', 'y2', 'z2']\n",
    "edges_df = pd.read_csv(\"example-data-for-epic/B012_Duodenum-edges.csv\", header=None, names=column_names)"
   ]
  },
  {
   "cell_type": "code",
   "execution_count": 4,
   "metadata": {},
   "outputs": [
    {
     "data": {
      "text/html": [
       "<div>\n",
       "<style scoped>\n",
       "    .dataframe tbody tr th:only-of-type {\n",
       "        vertical-align: middle;\n",
       "    }\n",
       "\n",
       "    .dataframe tbody tr th {\n",
       "        vertical-align: top;\n",
       "    }\n",
       "\n",
       "    .dataframe thead th {\n",
       "        text-align: right;\n",
       "    }\n",
       "</style>\n",
       "<table border=\"1\" class=\"dataframe\">\n",
       "  <thead>\n",
       "    <tr style=\"text-align: right;\">\n",
       "      <th></th>\n",
       "      <th>x</th>\n",
       "      <th>y</th>\n",
       "      <th>Cell Type</th>\n",
       "    </tr>\n",
       "  </thead>\n",
       "  <tbody>\n",
       "    <tr>\n",
       "      <th>0</th>\n",
       "      <td>1086.83</td>\n",
       "      <td>4894.632</td>\n",
       "      <td>Cycling TA</td>\n",
       "    </tr>\n",
       "    <tr>\n",
       "      <th>1</th>\n",
       "      <td>1251.37</td>\n",
       "      <td>5079.956</td>\n",
       "      <td>Cycling TA</td>\n",
       "    </tr>\n",
       "  </tbody>\n",
       "</table>\n",
       "</div>"
      ],
      "text/plain": [
       "         x         y   Cell Type\n",
       "0  1086.83  4894.632  Cycling TA\n",
       "1  1251.37  5079.956  Cycling TA"
      ]
     },
     "metadata": {},
     "output_type": "display_data"
    }
   ],
   "source": [
    "display(nodes_df.head(2))"
   ]
  },
  {
   "cell_type": "code",
   "execution_count": 5,
   "metadata": {},
   "outputs": [
    {
     "data": {
      "text/html": [
       "<div>\n",
       "<style scoped>\n",
       "    .dataframe tbody tr th:only-of-type {\n",
       "        vertical-align: middle;\n",
       "    }\n",
       "\n",
       "    .dataframe tbody tr th {\n",
       "        vertical-align: top;\n",
       "    }\n",
       "\n",
       "    .dataframe thead th {\n",
       "        text-align: right;\n",
       "    }\n",
       "</style>\n",
       "<table border=\"1\" class=\"dataframe\">\n",
       "  <thead>\n",
       "    <tr style=\"text-align: right;\">\n",
       "      <th></th>\n",
       "      <th>cell_id</th>\n",
       "      <th>x1</th>\n",
       "      <th>y1</th>\n",
       "      <th>z1</th>\n",
       "      <th>x2</th>\n",
       "      <th>y2</th>\n",
       "      <th>z2</th>\n",
       "    </tr>\n",
       "  </thead>\n",
       "  <tbody>\n",
       "    <tr>\n",
       "      <th>0</th>\n",
       "      <td>2453</td>\n",
       "      <td>984.642</td>\n",
       "      <td>2986.834</td>\n",
       "      <td>0</td>\n",
       "      <td>1333.640</td>\n",
       "      <td>3116.734</td>\n",
       "      <td>0</td>\n",
       "    </tr>\n",
       "    <tr>\n",
       "      <th>1</th>\n",
       "      <td>66</td>\n",
       "      <td>627.850</td>\n",
       "      <td>3520.290</td>\n",
       "      <td>0</td>\n",
       "      <td>955.198</td>\n",
       "      <td>3406.844</td>\n",
       "      <td>0</td>\n",
       "    </tr>\n",
       "  </tbody>\n",
       "</table>\n",
       "</div>"
      ],
      "text/plain": [
       "   cell_id       x1        y1  z1        x2        y2  z2\n",
       "0     2453  984.642  2986.834   0  1333.640  3116.734   0\n",
       "1       66  627.850  3520.290   0   955.198  3406.844   0"
      ]
     },
     "metadata": {},
     "output_type": "display_data"
    }
   ],
   "source": [
    "display(edges_df.head(2))"
   ]
  },
  {
   "cell_type": "markdown",
   "metadata": {},
   "source": [
    "Compute distance values (in micrometers) and merge nodes.csv and edges.csv file from CDE into a single dataframe, including distances and cell types for each node (cell)."
   ]
  },
  {
   "cell_type": "code",
   "execution_count": 6,
   "metadata": {},
   "outputs": [
    {
     "data": {
      "text/html": [
       "<div>\n",
       "<style scoped>\n",
       "    .dataframe tbody tr th:only-of-type {\n",
       "        vertical-align: middle;\n",
       "    }\n",
       "\n",
       "    .dataframe tbody tr th {\n",
       "        vertical-align: top;\n",
       "    }\n",
       "\n",
       "    .dataframe thead th {\n",
       "        text-align: right;\n",
       "    }\n",
       "</style>\n",
       "<table border=\"1\" class=\"dataframe\">\n",
       "  <thead>\n",
       "    <tr style=\"text-align: right;\">\n",
       "      <th></th>\n",
       "      <th>cell_id</th>\n",
       "      <th>x1</th>\n",
       "      <th>y1</th>\n",
       "      <th>z1</th>\n",
       "      <th>x2</th>\n",
       "      <th>y2</th>\n",
       "      <th>z2</th>\n",
       "      <th>distance</th>\n",
       "      <th>Cell Type</th>\n",
       "    </tr>\n",
       "  </thead>\n",
       "  <tbody>\n",
       "    <tr>\n",
       "      <th>0</th>\n",
       "      <td>2453</td>\n",
       "      <td>984.642</td>\n",
       "      <td>2986.834</td>\n",
       "      <td>0</td>\n",
       "      <td>1333.640</td>\n",
       "      <td>3116.734</td>\n",
       "      <td>0</td>\n",
       "      <td>372.389063</td>\n",
       "      <td>Enterocyte</td>\n",
       "    </tr>\n",
       "    <tr>\n",
       "      <th>1</th>\n",
       "      <td>66</td>\n",
       "      <td>627.850</td>\n",
       "      <td>3520.290</td>\n",
       "      <td>0</td>\n",
       "      <td>955.198</td>\n",
       "      <td>3406.844</td>\n",
       "      <td>0</td>\n",
       "      <td>346.448709</td>\n",
       "      <td>CD66+ Enterocyte</td>\n",
       "    </tr>\n",
       "  </tbody>\n",
       "</table>\n",
       "</div>"
      ],
      "text/plain": [
       "   cell_id       x1        y1  z1        x2        y2  z2    distance  \\\n",
       "0     2453  984.642  2986.834   0  1333.640  3116.734   0  372.389063   \n",
       "1       66  627.850  3520.290   0   955.198  3406.844   0  346.448709   \n",
       "\n",
       "          Cell Type  \n",
       "0        Enterocyte  \n",
       "1  CD66+ Enterocyte  "
      ]
     },
     "metadata": {},
     "output_type": "display_data"
    }
   ],
   "source": [
    "# calculate distance between two points\n",
    "edges_df['distance'] = np.sqrt((edges_df['x1'] - edges_df['x2'])**2 + (edges_df['y1'] - edges_df['y2'])**2+ (edges_df['z1'] - edges_df['z2'])**2)\n",
    "\n",
    "# Add a new 'cell_id' column to nodes_df\n",
    "nodes_df['cell_id'] = range(len(nodes_df))\n",
    "\n",
    "# Set 'cell_id' column as index for nodes_df\n",
    "nodes_df.set_index('cell_id', inplace=True)\n",
    "\n",
    "# Merge nodes_df with edges_df based on the index (cell_id) with a left join\n",
    "combined_df = pd.merge(edges_df, nodes_df[['Cell Type']], how='left', left_on='cell_id', right_index=True)\n",
    "\n",
    "# Display the merged DataFrame\n",
    "display(combined_df.head(2))"
   ]
  },
  {
   "cell_type": "code",
   "execution_count": 7,
   "metadata": {},
   "outputs": [],
   "source": [
    "# Convert combined dataframe into EPIC (Linkage Adjacency) format.\n",
    "# Columns: schema id, first object id, second object id, distance value, distance unit, is_touching(optional), obj source file, obj mask name, protocol.\n",
    "\n",
    "# Create a new DataFrame to store the EPIC format. Not adding the is_touching column.\n",
    "epic_df = pd.DataFrame(columns=['schema_id', 'first_object_id', 'second_object_id', 'distance_value', 'distance_unit', 'obj_source_file', 'obj_mask_name', 'protocol'])"
   ]
  },
  {
   "cell_type": "code",
   "execution_count": 8,
   "metadata": {},
   "outputs": [
    {
     "name": "stderr",
     "output_type": "stream",
     "text": [
      "100%|██████████| 28901/28901 [02:20<00:00, 205.92it/s]\n"
     ]
    }
   ],
   "source": [
    "# Iterate through each cell_id in combined_df.\n",
    "for index, row in tqdm(combined_df.iterrows(), total=combined_df.shape[0]):\n",
    "    cell_id = row['cell_id']\n",
    "\n",
    "    # Get the row index from nodes_df where x2, y2 values are equal to x, y values in combined_df.\n",
    "    row_index = nodes_df[(nodes_df['x'] == row['x2']) & (nodes_df['y'] == row['y2'])].index[0]\n",
    "\n",
    "    # Add the initial cell_id and the row index value with distance value to epic_df.\n",
    "    epic_df = epic_df.append({'schema_id': \"Dummy ID\", 'first_object_id': cell_id, 'second_object_id': row_index, 'distance_value': row['distance'], 'distance_unit': 'micrometers', 'obj_source_file': 'B012_Duodenum-nodes.csv', 'obj_mask_name': 'B012_Duodenum', 'protocol': 'Linkage Adjacency Dummy Value'}, ignore_index=True)\n"
   ]
  },
  {
   "cell_type": "code",
   "execution_count": 9,
   "metadata": {},
   "outputs": [
    {
     "data": {
      "text/html": [
       "<div>\n",
       "<style scoped>\n",
       "    .dataframe tbody tr th:only-of-type {\n",
       "        vertical-align: middle;\n",
       "    }\n",
       "\n",
       "    .dataframe tbody tr th {\n",
       "        vertical-align: top;\n",
       "    }\n",
       "\n",
       "    .dataframe thead th {\n",
       "        text-align: right;\n",
       "    }\n",
       "</style>\n",
       "<table border=\"1\" class=\"dataframe\">\n",
       "  <thead>\n",
       "    <tr style=\"text-align: right;\">\n",
       "      <th></th>\n",
       "      <th>schema_id</th>\n",
       "      <th>first_object_id</th>\n",
       "      <th>second_object_id</th>\n",
       "      <th>distance_value</th>\n",
       "      <th>distance_unit</th>\n",
       "      <th>obj_source_file</th>\n",
       "      <th>obj_mask_name</th>\n",
       "      <th>protocol</th>\n",
       "    </tr>\n",
       "  </thead>\n",
       "  <tbody>\n",
       "    <tr>\n",
       "      <th>0</th>\n",
       "      <td>Dummy ID</td>\n",
       "      <td>2453</td>\n",
       "      <td>21224</td>\n",
       "      <td>372.389063</td>\n",
       "      <td>micrometers</td>\n",
       "      <td>B012_Duodenum-nodes.csv</td>\n",
       "      <td>B012_Duodenum</td>\n",
       "      <td>Linkage Adjacency Dummy Value</td>\n",
       "    </tr>\n",
       "    <tr>\n",
       "      <th>1</th>\n",
       "      <td>Dummy ID</td>\n",
       "      <td>66</td>\n",
       "      <td>19678</td>\n",
       "      <td>346.448709</td>\n",
       "      <td>micrometers</td>\n",
       "      <td>B012_Duodenum-nodes.csv</td>\n",
       "      <td>B012_Duodenum</td>\n",
       "      <td>Linkage Adjacency Dummy Value</td>\n",
       "    </tr>\n",
       "  </tbody>\n",
       "</table>\n",
       "</div>"
      ],
      "text/plain": [
       "  schema_id first_object_id second_object_id distance_value distance_unit  \\\n",
       "0  Dummy ID            2453            21224     372.389063   micrometers   \n",
       "1  Dummy ID              66            19678     346.448709   micrometers   \n",
       "\n",
       "           obj_source_file  obj_mask_name                       protocol  \n",
       "0  B012_Duodenum-nodes.csv  B012_Duodenum  Linkage Adjacency Dummy Value  \n",
       "1  B012_Duodenum-nodes.csv  B012_Duodenum  Linkage Adjacency Dummy Value  "
      ]
     },
     "metadata": {},
     "output_type": "display_data"
    }
   ],
   "source": [
    "\n",
    "# Display the EPIC format DataFrame\n",
    "display(epic_df.head(2))\n"
   ]
  },
  {
   "cell_type": "code",
   "execution_count": 10,
   "metadata": {},
   "outputs": [],
   "source": [
    "# Save the EPIC format DataFrame to a CSV file.\n",
    "epic_df.to_csv('example-data-for-epic/B012_Duodenum-epic-format.csv', index=False)"
   ]
  },
  {
   "cell_type": "code",
   "execution_count": 11,
   "metadata": {},
   "outputs": [
    {
     "data": {
      "text/html": [
       "<div>\n",
       "<style scoped>\n",
       "    .dataframe tbody tr th:only-of-type {\n",
       "        vertical-align: middle;\n",
       "    }\n",
       "\n",
       "    .dataframe tbody tr th {\n",
       "        vertical-align: top;\n",
       "    }\n",
       "\n",
       "    .dataframe thead th {\n",
       "        text-align: right;\n",
       "    }\n",
       "</style>\n",
       "<table border=\"1\" class=\"dataframe\">\n",
       "  <thead>\n",
       "    <tr style=\"text-align: right;\">\n",
       "      <th></th>\n",
       "      <th>schema_id</th>\n",
       "      <th>first_object_id</th>\n",
       "      <th>second_object_id</th>\n",
       "      <th>distance_value</th>\n",
       "      <th>distance_unit</th>\n",
       "      <th>obj_source_file</th>\n",
       "      <th>obj_mask_name</th>\n",
       "      <th>protocol</th>\n",
       "    </tr>\n",
       "  </thead>\n",
       "  <tbody>\n",
       "    <tr>\n",
       "      <th>6567</th>\n",
       "      <td>Dummy ID</td>\n",
       "      <td>31126</td>\n",
       "      <td>19607</td>\n",
       "      <td>79.488234</td>\n",
       "      <td>micrometers</td>\n",
       "      <td>B012_Duodenum-nodes.csv</td>\n",
       "      <td>B012_Duodenum</td>\n",
       "      <td>Linkage Adjacency Dummy Value</td>\n",
       "    </tr>\n",
       "  </tbody>\n",
       "</table>\n",
       "</div>"
      ],
      "text/plain": [
       "     schema_id first_object_id second_object_id distance_value distance_unit  \\\n",
       "6567  Dummy ID           31126            19607      79.488234   micrometers   \n",
       "\n",
       "              obj_source_file  obj_mask_name                       protocol  \n",
       "6567  B012_Duodenum-nodes.csv  B012_Duodenum  Linkage Adjacency Dummy Value  "
      ]
     },
     "metadata": {},
     "output_type": "display_data"
    },
    {
     "data": {
      "text/plain": [
       "x            1416.776\n",
       "y             4174.12\n",
       "Cell Type          DC\n",
       "Name: 31126, dtype: object"
      ]
     },
     "metadata": {},
     "output_type": "display_data"
    },
    {
     "data": {
      "text/plain": [
       "x               1486.056\n",
       "y                4135.15\n",
       "Cell Type    Endothelial\n",
       "Name: 19607, dtype: object"
      ]
     },
     "metadata": {},
     "output_type": "display_data"
    },
    {
     "data": {
      "text/html": [
       "<div>\n",
       "<style scoped>\n",
       "    .dataframe tbody tr th:only-of-type {\n",
       "        vertical-align: middle;\n",
       "    }\n",
       "\n",
       "    .dataframe tbody tr th {\n",
       "        vertical-align: top;\n",
       "    }\n",
       "\n",
       "    .dataframe thead th {\n",
       "        text-align: right;\n",
       "    }\n",
       "</style>\n",
       "<table border=\"1\" class=\"dataframe\">\n",
       "  <thead>\n",
       "    <tr style=\"text-align: right;\">\n",
       "      <th></th>\n",
       "      <th>cell_id</th>\n",
       "      <th>x1</th>\n",
       "      <th>y1</th>\n",
       "      <th>z1</th>\n",
       "      <th>x2</th>\n",
       "      <th>y2</th>\n",
       "      <th>z2</th>\n",
       "      <th>distance</th>\n",
       "      <th>Cell Type</th>\n",
       "    </tr>\n",
       "  </thead>\n",
       "  <tbody>\n",
       "    <tr>\n",
       "      <th>6567</th>\n",
       "      <td>31126</td>\n",
       "      <td>1416.776</td>\n",
       "      <td>4174.12</td>\n",
       "      <td>0</td>\n",
       "      <td>1486.056</td>\n",
       "      <td>4135.15</td>\n",
       "      <td>0</td>\n",
       "      <td>79.488234</td>\n",
       "      <td>DC</td>\n",
       "    </tr>\n",
       "  </tbody>\n",
       "</table>\n",
       "</div>"
      ],
      "text/plain": [
       "      cell_id        x1       y1  z1        x2       y2  z2   distance  \\\n",
       "6567    31126  1416.776  4174.12   0  1486.056  4135.15   0  79.488234   \n",
       "\n",
       "     Cell Type  \n",
       "6567        DC  "
      ]
     },
     "metadata": {},
     "output_type": "display_data"
    },
    {
     "data": {
      "text/html": [
       "<div>\n",
       "<style scoped>\n",
       "    .dataframe tbody tr th:only-of-type {\n",
       "        vertical-align: middle;\n",
       "    }\n",
       "\n",
       "    .dataframe tbody tr th {\n",
       "        vertical-align: top;\n",
       "    }\n",
       "\n",
       "    .dataframe thead th {\n",
       "        text-align: right;\n",
       "    }\n",
       "</style>\n",
       "<table border=\"1\" class=\"dataframe\">\n",
       "  <thead>\n",
       "    <tr style=\"text-align: right;\">\n",
       "      <th></th>\n",
       "      <th>cell_id</th>\n",
       "      <th>x1</th>\n",
       "      <th>y1</th>\n",
       "      <th>z1</th>\n",
       "      <th>x2</th>\n",
       "      <th>y2</th>\n",
       "      <th>z2</th>\n",
       "      <th>distance</th>\n",
       "      <th>Cell Type</th>\n",
       "    </tr>\n",
       "  </thead>\n",
       "  <tbody>\n",
       "  </tbody>\n",
       "</table>\n",
       "</div>"
      ],
      "text/plain": [
       "Empty DataFrame\n",
       "Columns: [cell_id, x1, y1, z1, x2, y2, z2, distance, Cell Type]\n",
       "Index: []"
      ]
     },
     "metadata": {},
     "output_type": "display_data"
    }
   ],
   "source": [
    "# Some code to test the EPIC format DataFrame.\n",
    "# Read a random row from epic_df and get the corresponding two rows from nodes_df based on first_object_id and second_object_id, both of which correspond to row index in nodes_df.\n",
    "row = epic_df.sample()\n",
    "# print row values\n",
    "display(row)\n",
    "\n",
    "first_object_id = row['first_object_id'].values[0]\n",
    "second_object_id = row['second_object_id'].values[0]\n",
    "display(nodes_df.loc[first_object_id])\n",
    "display(nodes_df.loc[second_object_id])\n",
    "\n",
    "# display the row from combined_df where cell_id is equal to first_object_id.\n",
    "display(combined_df[combined_df['cell_id'] == first_object_id])\n",
    "\n",
    "# display the row from combined_df where cell_id is equal to second_object_id.\n",
    "display(combined_df[combined_df['cell_id'] == second_object_id])\n"
   ]
  }
 ],
 "metadata": {
  "kernelspec": {
   "display_name": "vitessce-env",
   "language": "python",
   "name": "python3"
  },
  "language_info": {
   "codemirror_mode": {
    "name": "ipython",
    "version": 3
   },
   "file_extension": ".py",
   "mimetype": "text/x-python",
   "name": "python",
   "nbconvert_exporter": "python",
   "pygments_lexer": "ipython3",
   "version": "3.9.18"
  }
 },
 "nbformat": 4,
 "nbformat_minor": 2
}
